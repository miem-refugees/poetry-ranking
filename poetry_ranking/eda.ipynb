{
  "nbformat": 4,
  "nbformat_minor": 2,
  "metadata": {},
  "cells": [
    {
      "metadata": {},
      "source": [
        "import numpy as np\n",
        "import pandas as pd\n",
        "import seaborn as sns"
      ],
      "cell_type": "code",
      "outputs": [],
      "execution_count": null
    },
    {
      "metadata": {},
      "source": [
        "df_train = pd.read_csv(\"data/raw/poetry_data_train.zip\")\n",
        "df_test = pd.read_csv(\"data/raw/poetry_data_test.zip\")\n",
        "df_train"
      ],
      "cell_type": "code",
      "outputs": [
        {
          "output_type": "execute_result",
          "data": {
            "text/html": [
              "<div>\n",
              "<style scoped>\n",
              "    .dataframe tbody tr th:only-of-type {\n",
              "        vertical-align: middle;\n",
              "    }\n",
              "\n",
              "    .dataframe tbody tr th {\n",
              "        vertical-align: top;\n",
              "    }\n",
              "\n",
              "    .dataframe thead th {\n",
              "        text-align: right;\n",
              "    }\n",
              "</style>\n",
              "<table border=\"1\" class=\"dataframe\">\n",
              "  <thead>\n",
              "    <tr style=\"text-align: right;\">\n",
              "      <th></th>\n",
              "      <th>url</th>\n",
              "      <th>rating</th>\n",
              "      <th>views</th>\n",
              "      <th>output_text</th>\n",
              "      <th>genre</th>\n",
              "    </tr>\n",
              "  </thead>\n",
              "  <tbody>\n",
              "    <tr>\n",
              "      <th>0</th>\n",
              "      <td>https://www.chitalnya.ru/work/3180020/</td>\n",
              "      <td>29</td>\n",
              "      <td>33</td>\n",
              "      <td>\u041b\u044e\u0431\u043b\u044e \u043b\u0438 \u043e\u0441\u0435\u043d\u044c? \u0422\u044b \u0441\u043f\u0440\u043e\u0441\u0438 \u0443 \u0435\u043b\u0438 -\\n\u041e\u043d\u0430 \u0432 \u043a\u043e\u043b\u044e\u0447...</td>\n",
              "      <td>\u043b\u0438\u0440\u0438\u043a\u0430</td>\n",
              "    </tr>\n",
              "    <tr>\n",
              "      <th>1</th>\n",
              "      <td>https://www.chitalnya.ru/work/2496512/</td>\n",
              "      <td>0</td>\n",
              "      <td>29</td>\n",
              "      <td>\u041f\u043e\u0434\u0440\u0443\u0433\u0430 - \u0437\u043b\u0430\u044f \u043f\u043e\u0445\u043c\u0435\u043b\u044e\u0433\u0430\\n\u0423\u0436\u0430\u0441\u043d\u043e \u0432\u0440\u0435\u0434\u043d\u0430\u044f \u043f\u043e\u0440\u043e\u0439...</td>\n",
              "      <td>\u044e\u043c\u043e\u0440</td>\n",
              "    </tr>\n",
              "    <tr>\n",
              "      <th>2</th>\n",
              "      <td>https://www.chitalnya.ru/work/2300891/</td>\n",
              "      <td>73</td>\n",
              "      <td>110</td>\n",
              "      <td>\u041d\u0430 \u043a\u0430\u0447\u0435\u043b\u044f\u0445 \u043d\u0430\u0441\u0442\u0440\u043e\u0435\u043d\u044c\u044f\\n\u041c\u044b \u0441\u0435\u0433\u043e\u0434\u043d\u044f \u0443\u043b\u0435\u0442\u0435\u043b\u0438\\n\u0412 \u0440...</td>\n",
              "      <td>\u043b\u0438\u0440\u0438\u043a\u0430</td>\n",
              "    </tr>\n",
              "    <tr>\n",
              "      <th>3</th>\n",
              "      <td>https://www.chitalnya.ru/work/3109869/</td>\n",
              "      <td>44</td>\n",
              "      <td>67</td>\n",
              "      <td>\u0417\u043d\u0430\u0435\u0448\u044c, \u0421\u0432\u0435\u0442\u0430, \u0441 \u0442\u043e\u0431\u043e\u0439 \u043c\u043d\u0435 \u043f\u0440\u043e\u0441\u0442\u043e:\\n\u0423 \u0442\u0435\u0431\u044f \u0436\u0438\u0432...</td>\n",
              "      <td>\u043b\u0438\u0440\u0438\u043a\u0430</td>\n",
              "    </tr>\n",
              "    <tr>\n",
              "      <th>4</th>\n",
              "      <td>https://www.chitalnya.ru/work/3382840/</td>\n",
              "      <td>0</td>\n",
              "      <td>12</td>\n",
              "      <td>\u041a\u043b\u044f\u043d\u0435\u043c\u0441\u044f, \u0431\u0443\u0434\u0435\u043c \u043f\u043e\u043c\u043d\u0438\u0442\u044c \u043f\u043e\u0433\u0438\u0431\u0448\u0438\u0445 \u043c\u044b \u0432\u0441\u0435\u0433\u0434\u0430,\\n\u0418...</td>\n",
              "      <td>\u043b\u0438\u0440\u0438\u043a\u0430</td>\n",
              "    </tr>\n",
              "    <tr>\n",
              "      <th>...</th>\n",
              "      <td>...</td>\n",
              "      <td>...</td>\n",
              "      <td>...</td>\n",
              "      <td>...</td>\n",
              "      <td>...</td>\n",
              "    </tr>\n",
              "    <tr>\n",
              "      <th>138391</th>\n",
              "      <td>https://www.chitalnya.ru/work/1153818/</td>\n",
              "      <td>0</td>\n",
              "      <td>136</td>\n",
              "      <td>\u041a\u0430\u043a \u0442\u0440\u0443\u0434\u043d\u043e \u043c\u043d\u0435 \u043e\u043f\u0440\u0435\u0434\u0435\u043b\u0438\u0442\u044c\u0441\u044f -\\n\u0427\u0435\u0440\u0432\u044f\u043a \u044f \u0432 \u0436\u0438\u0437\u043d...</td>\n",
              "      <td>\u044e\u043c\u043e\u0440</td>\n",
              "    </tr>\n",
              "    <tr>\n",
              "      <th>138392</th>\n",
              "      <td>https://www.chitalnya.ru/work/2873976/</td>\n",
              "      <td>74</td>\n",
              "      <td>84</td>\n",
              "      <td>\u041e\u0441\u0435\u043d\u043d\u0438\u0439 \u0434\u043e\u0436\u0434\u044c... \u0425\u043e\u043b\u043e\u0434\u043d\u044b\u0439. \u0425\u043c\u0443\u0440\u044b\u0439.\\n\u0421\u0442\u0443\u0447\u0438\u0442, \u0441\u0442...</td>\n",
              "      <td>\u043b\u0438\u0440\u0438\u043a\u0430</td>\n",
              "    </tr>\n",
              "    <tr>\n",
              "      <th>138393</th>\n",
              "      <td>https://www.chitalnya.ru/work/3140150/</td>\n",
              "      <td>0</td>\n",
              "      <td>10</td>\n",
              "      <td>\u041d\u0438\u0447\u0442\u043e \u043d\u0435 \u043f\u0440\u043e\u0445\u043e\u0434\u0438\u0442 \u0431\u0435\u0441\u0441\u043b\u0435\u0434\u043d\u043e \u0438 \u0434\u0430\u0440\u043e\u043c\\n\u041d\u0438\u0447\u0442\u043e, \u043d\u0438...</td>\n",
              "      <td>\u043b\u0438\u0440\u0438\u043a\u0430</td>\n",
              "    </tr>\n",
              "    <tr>\n",
              "      <th>138394</th>\n",
              "      <td>https://www.chitalnya.ru/work/2433508/</td>\n",
              "      <td>30</td>\n",
              "      <td>88</td>\n",
              "      <td>\u042f \u043f\u0440\u0435\u0434\u0430\u043c \u0442\u0435\u0431\u044f \u0441\u0435\u0439\u0447\u0430\u0441,\\n\u041a\u0438\u043d\u0443 \u0432 \u0440\u0430\u0434\u043e\u0441\u0442\u0438 \u0438 \u0432 \u0433\u043e\u0440\u0435...</td>\n",
              "      <td>\u043b\u0438\u0440\u0438\u043a\u0430</td>\n",
              "    </tr>\n",
              "    <tr>\n",
              "      <th>138395</th>\n",
              "      <td>https://www.chitalnya.ru/work/2975796/</td>\n",
              "      <td>2</td>\n",
              "      <td>446</td>\n",
              "      <td>\u0427\u0435\u043c \u0431\u0435\u0437\u043d\u0430\u0434\u0435\u0436\u043d\u0435\u0435 \u0438 \u0441\u0442\u0440\u043e\u0436\u0435\\n\u0413\u043e\u0434\u0430 \u0440\u0430\u0437\u044a\u0435\u0434\u0438\u043d\u044f\u044e\u0442 \u043d\u0430\u0441...</td>\n",
              "      <td>\u043b\u0438\u0440\u0438\u043a\u0430</td>\n",
              "    </tr>\n",
              "  </tbody>\n",
              "</table>\n",
              "<p>138396 rows \u00d7 5 columns</p>\n",
              "</div>"
            ],
            "text/plain": [
              "                                           url  rating  views  \\\n",
              "0       https://www.chitalnya.ru/work/3180020/      29     33   \n",
              "1       https://www.chitalnya.ru/work/2496512/       0     29   \n",
              "2       https://www.chitalnya.ru/work/2300891/      73    110   \n",
              "3       https://www.chitalnya.ru/work/3109869/      44     67   \n",
              "4       https://www.chitalnya.ru/work/3382840/       0     12   \n",
              "...                                        ...     ...    ...   \n",
              "138391  https://www.chitalnya.ru/work/1153818/       0    136   \n",
              "138392  https://www.chitalnya.ru/work/2873976/      74     84   \n",
              "138393  https://www.chitalnya.ru/work/3140150/       0     10   \n",
              "138394  https://www.chitalnya.ru/work/2433508/      30     88   \n",
              "138395  https://www.chitalnya.ru/work/2975796/       2    446   \n",
              "\n",
              "                                              output_text   genre  \n",
              "0       \u041b\u044e\u0431\u043b\u044e \u043b\u0438 \u043e\u0441\u0435\u043d\u044c? \u0422\u044b \u0441\u043f\u0440\u043e\u0441\u0438 \u0443 \u0435\u043b\u0438 -\\n\u041e\u043d\u0430 \u0432 \u043a\u043e\u043b\u044e\u0447...  \u043b\u0438\u0440\u0438\u043a\u0430  \n",
              "1       \u041f\u043e\u0434\u0440\u0443\u0433\u0430 - \u0437\u043b\u0430\u044f \u043f\u043e\u0445\u043c\u0435\u043b\u044e\u0433\u0430\\n\u0423\u0436\u0430\u0441\u043d\u043e \u0432\u0440\u0435\u0434\u043d\u0430\u044f \u043f\u043e\u0440\u043e\u0439...    \u044e\u043c\u043e\u0440  \n",
              "2       \u041d\u0430 \u043a\u0430\u0447\u0435\u043b\u044f\u0445 \u043d\u0430\u0441\u0442\u0440\u043e\u0435\u043d\u044c\u044f\\n\u041c\u044b \u0441\u0435\u0433\u043e\u0434\u043d\u044f \u0443\u043b\u0435\u0442\u0435\u043b\u0438\\n\u0412 \u0440...  \u043b\u0438\u0440\u0438\u043a\u0430  \n",
              "3       \u0417\u043d\u0430\u0435\u0448\u044c, \u0421\u0432\u0435\u0442\u0430, \u0441 \u0442\u043e\u0431\u043e\u0439 \u043c\u043d\u0435 \u043f\u0440\u043e\u0441\u0442\u043e:\\n\u0423 \u0442\u0435\u0431\u044f \u0436\u0438\u0432...  \u043b\u0438\u0440\u0438\u043a\u0430  \n",
              "4       \u041a\u043b\u044f\u043d\u0435\u043c\u0441\u044f, \u0431\u0443\u0434\u0435\u043c \u043f\u043e\u043c\u043d\u0438\u0442\u044c \u043f\u043e\u0433\u0438\u0431\u0448\u0438\u0445 \u043c\u044b \u0432\u0441\u0435\u0433\u0434\u0430,\\n\u0418...  \u043b\u0438\u0440\u0438\u043a\u0430  \n",
              "...                                                   ...     ...  \n",
              "138391  \u041a\u0430\u043a \u0442\u0440\u0443\u0434\u043d\u043e \u043c\u043d\u0435 \u043e\u043f\u0440\u0435\u0434\u0435\u043b\u0438\u0442\u044c\u0441\u044f -\\n\u0427\u0435\u0440\u0432\u044f\u043a \u044f \u0432 \u0436\u0438\u0437\u043d...    \u044e\u043c\u043e\u0440  \n",
              "138392  \u041e\u0441\u0435\u043d\u043d\u0438\u0439 \u0434\u043e\u0436\u0434\u044c... \u0425\u043e\u043b\u043e\u0434\u043d\u044b\u0439. \u0425\u043c\u0443\u0440\u044b\u0439.\\n\u0421\u0442\u0443\u0447\u0438\u0442, \u0441\u0442...  \u043b\u0438\u0440\u0438\u043a\u0430  \n",
              "138393  \u041d\u0438\u0447\u0442\u043e \u043d\u0435 \u043f\u0440\u043e\u0445\u043e\u0434\u0438\u0442 \u0431\u0435\u0441\u0441\u043b\u0435\u0434\u043d\u043e \u0438 \u0434\u0430\u0440\u043e\u043c\\n\u041d\u0438\u0447\u0442\u043e, \u043d\u0438...  \u043b\u0438\u0440\u0438\u043a\u0430  \n",
              "138394  \u042f \u043f\u0440\u0435\u0434\u0430\u043c \u0442\u0435\u0431\u044f \u0441\u0435\u0439\u0447\u0430\u0441,\\n\u041a\u0438\u043d\u0443 \u0432 \u0440\u0430\u0434\u043e\u0441\u0442\u0438 \u0438 \u0432 \u0433\u043e\u0440\u0435...  \u043b\u0438\u0440\u0438\u043a\u0430  \n",
              "138395  \u0427\u0435\u043c \u0431\u0435\u0437\u043d\u0430\u0434\u0435\u0436\u043d\u0435\u0435 \u0438 \u0441\u0442\u0440\u043e\u0436\u0435\\n\u0413\u043e\u0434\u0430 \u0440\u0430\u0437\u044a\u0435\u0434\u0438\u043d\u044f\u044e\u0442 \u043d\u0430\u0441...  \u043b\u0438\u0440\u0438\u043a\u0430  \n",
              "\n",
              "[138396 rows x 5 columns]"
            ]
          },
          "metadata": {},
          "execution_count": 2
        }
      ],
      "execution_count": null
    },
    {
      "metadata": {},
      "source": [
        "df_train[\"rating\"].mean()"
      ],
      "cell_type": "code",
      "outputs": [
        {
          "output_type": "execute_result",
          "data": {
            "text/plain": [
              "11.92026503656175"
            ]
          },
          "metadata": {},
          "execution_count": 3
        }
      ],
      "execution_count": null
    },
    {
      "metadata": {},
      "source": [
        "df_train[\"views\"].mean()"
      ],
      "cell_type": "code",
      "outputs": [
        {
          "output_type": "execute_result",
          "data": {
            "text/plain": [
              "132.44228879447382"
            ]
          },
          "metadata": {},
          "execution_count": 4
        }
      ],
      "execution_count": null
    },
    {
      "metadata": {},
      "source": [
        "df_train[\"rating\"] / df_train[\"views\"]"
      ],
      "cell_type": "code",
      "outputs": [
        {
          "output_type": "execute_result",
          "data": {
            "text/plain": [
              "0         0.878788\n",
              "1         0.000000\n",
              "2         0.663636\n",
              "3         0.656716\n",
              "4         0.000000\n",
              "            ...   \n",
              "138391    0.000000\n",
              "138392    0.880952\n",
              "138393    0.000000\n",
              "138394    0.340909\n",
              "138395    0.004484\n",
              "Length: 138396, dtype: float64"
            ]
          },
          "metadata": {},
          "execution_count": 5
        }
      ],
      "execution_count": null
    },
    {
      "metadata": {},
      "source": [
        "df_train[\"rating\"].value_counts()"
      ],
      "cell_type": "code",
      "outputs": [
        {
          "output_type": "execute_result",
          "data": {
            "text/plain": [
              "rating\n",
              "0      77985\n",
              "7       9315\n",
              "2       7425\n",
              "1       5090\n",
              "9       2771\n",
              "       ...  \n",
              "318        1\n",
              "398        1\n",
              "334        1\n",
              "386        1\n",
              "851        1\n",
              "Name: count, Length: 440, dtype: int64"
            ]
          },
          "metadata": {},
          "execution_count": 6
        }
      ],
      "execution_count": null
    },
    {
      "metadata": {},
      "source": [
        "df_train[\"rating\"].mean()"
      ],
      "cell_type": "code",
      "outputs": [
        {
          "output_type": "execute_result",
          "data": {
            "text/plain": [
              "11.92026503656175"
            ]
          },
          "metadata": {},
          "execution_count": 7
        }
      ],
      "execution_count": null
    },
    {
      "metadata": {},
      "source": [
        "df_train[\"rating\"].max(0)"
      ],
      "cell_type": "code",
      "outputs": [
        {
          "output_type": "execute_result",
          "data": {
            "text/plain": [
              "851"
            ]
          },
          "metadata": {},
          "execution_count": 8
        }
      ],
      "execution_count": null
    },
    {
      "metadata": {},
      "source": [
        "df_train[df_train[\"rating\"] == df_train[\"rating\"].max()]"
      ],
      "cell_type": "code",
      "outputs": [
        {
          "output_type": "execute_result",
          "data": {
            "text/html": [
              "<div>\n",
              "<style scoped>\n",
              "    .dataframe tbody tr th:only-of-type {\n",
              "        vertical-align: middle;\n",
              "    }\n",
              "\n",
              "    .dataframe tbody tr th {\n",
              "        vertical-align: top;\n",
              "    }\n",
              "\n",
              "    .dataframe thead th {\n",
              "        text-align: right;\n",
              "    }\n",
              "</style>\n",
              "<table border=\"1\" class=\"dataframe\">\n",
              "  <thead>\n",
              "    <tr style=\"text-align: right;\">\n",
              "      <th></th>\n",
              "      <th>url</th>\n",
              "      <th>rating</th>\n",
              "      <th>views</th>\n",
              "      <th>output_text</th>\n",
              "      <th>genre</th>\n",
              "    </tr>\n",
              "  </thead>\n",
              "  <tbody>\n",
              "    <tr>\n",
              "      <th>134881</th>\n",
              "      <td>https://www.chitalnya.ru/work/1670945/</td>\n",
              "      <td>851</td>\n",
              "      <td>1315</td>\n",
              "      <td>\u041d\u0430 \u043b\u0430\u0434\u043e\u043d\u0438 \u043c\u043e\u0435\u0439 \u043d\u0435\u043f\u0443\u0442\u0451\u0432\u0430\u044f \u043b\u0438\u043d\u0438\u044f \u0436\u0438\u0437\u043d\u0438,\\n\u0422\u043e \u043f\u043e\u0434 ...</td>\n",
              "      <td>\u043f\u0435\u0441\u043d\u0438</td>\n",
              "    </tr>\n",
              "  </tbody>\n",
              "</table>\n",
              "</div>"
            ],
            "text/plain": [
              "                                           url  rating  views  \\\n",
              "134881  https://www.chitalnya.ru/work/1670945/     851   1315   \n",
              "\n",
              "                                              output_text  genre  \n",
              "134881  \u041d\u0430 \u043b\u0430\u0434\u043e\u043d\u0438 \u043c\u043e\u0435\u0439 \u043d\u0435\u043f\u0443\u0442\u0451\u0432\u0430\u044f \u043b\u0438\u043d\u0438\u044f \u0436\u0438\u0437\u043d\u0438,\\n\u0422\u043e \u043f\u043e\u0434 ...  \u043f\u0435\u0441\u043d\u0438  "
            ]
          },
          "metadata": {},
          "execution_count": 9
        }
      ],
      "execution_count": null
    },
    {
      "metadata": {},
      "source": [
        "df_train[\"views\"].apply(np.log).hist()"
      ],
      "cell_type": "code",
      "outputs": [
        {
          "output_type": "execute_result",
          "data": {
            "text/plain": [
              "<Axes: >"
            ]
          },
          "metadata": {},
          "execution_count": 20
        },
        {
          "output_type": "display_data",
          "data": {
            "image/png": "[encoded data removed]",
            "text/plain": [
              "<Figure size 640x480 with 1 Axes>"
            ]
          },
          "metadata": {}
        }
      ],
      "execution_count": null
    },
    {
      "metadata": {},
      "source": [
        "df_train[\"rating\"].apply(lambda x: np.log(x + 0.00001)).hist(bins=100)"
      ],
      "cell_type": "code",
      "outputs": [
        {
          "output_type": "execute_result",
          "data": {
            "text/plain": [
              "<Axes: >"
            ]
          },
          "metadata": {},
          "execution_count": 21
        },
        {
          "output_type": "display_data",
          "data": {
            "image/png": "[encoded data removed]",
            "text/plain": [
              "<Figure size 640x480 with 1 Axes>"
            ]
          },
          "metadata": {}
        }
      ],
      "execution_count": null
    },
    {
      "metadata": {},
      "source": [
        "df_train[df_train[\"rating\"] > df_train[\"views\"]]"
      ],
      "cell_type": "code",
      "outputs": [
        {
          "output_type": "execute_result",
          "data": {
            "text/html": [
              "<div>\n",
              "<style scoped>\n",
              "    .dataframe tbody tr th:only-of-type {\n",
              "        vertical-align: middle;\n",
              "    }\n",
              "\n",
              "    .dataframe tbody tr th {\n",
              "        vertical-align: top;\n",
              "    }\n",
              "\n",
              "    .dataframe thead th {\n",
              "        text-align: right;\n",
              "    }\n",
              "</style>\n",
              "<table border=\"1\" class=\"dataframe\">\n",
              "  <thead>\n",
              "    <tr style=\"text-align: right;\">\n",
              "      <th></th>\n",
              "      <th>url</th>\n",
              "      <th>rating</th>\n",
              "      <th>views</th>\n",
              "      <th>output_text</th>\n",
              "      <th>genre</th>\n",
              "    </tr>\n",
              "  </thead>\n",
              "  <tbody>\n",
              "    <tr>\n",
              "      <th>9</th>\n",
              "      <td>https://www.chitalnya.ru/work/3841458/</td>\n",
              "      <td>58</td>\n",
              "      <td>16</td>\n",
              "      <td>\u0427\u0430\u0432\u043a\u0430\u0435\u0442 \u043b\u0443\u0436\u0430 \u0441\u043c\u0435\u0448\u043d\u043e \u043f\u043e\u0434 \u043d\u043e\u0433\u0430\u043c\u0438:\\n\u0421\u044d\u0440, \u043c\u043e\u0436\u043d\u043e \u043c\u043d...</td>\n",
              "      <td>\u044e\u043c\u043e\u0440</td>\n",
              "    </tr>\n",
              "    <tr>\n",
              "      <th>15</th>\n",
              "      <td>https://www.chitalnya.ru/work/3275893/</td>\n",
              "      <td>58</td>\n",
              "      <td>26</td>\n",
              "      <td>\u0421\u0432\u043e\u0434 \u0437\u0430\u043a\u043e\u043d\u043e\u0432 \u043d\u0435\u0431\u0435\u0441\u043d\u044b\u0439,\\n\u0421\u043d\u0435\u0433\u043e\u043f\u0430\u0434\u044b, \u0434\u043e\u0436\u0434\u0438.\\n\u041e\u0442 ...</td>\n",
              "      <td>\u043b\u0438\u0440\u0438\u043a\u0430</td>\n",
              "    </tr>\n",
              "    <tr>\n",
              "      <th>89</th>\n",
              "      <td>https://www.chitalnya.ru/work/3439058/</td>\n",
              "      <td>73</td>\n",
              "      <td>72</td>\n",
              "      <td>\u0412\u044b\u0446\u0432\u0435\u0442\u0430\u044e\u0442 \u0447\u0435\u0440\u043d\u0438\u043b\u0430 \u043d\u043e\u0432\u0435\u043b\u043b\u044b \u043f\u043e\u0442\u0435\u0440\u044f\u043d\u043d\u043e\u0439 \u043d\u043e\u0447\u0438,\\n\u041d\u0430...</td>\n",
              "      <td>\u043b\u0438\u0440\u0438\u043a\u0430</td>\n",
              "    </tr>\n",
              "    <tr>\n",
              "      <th>178</th>\n",
              "      <td>https://www.chitalnya.ru/work/3773168/</td>\n",
              "      <td>32</td>\n",
              "      <td>20</td>\n",
              "      <td>\u0417\u0430\u0432\u0442\u0440\u0430 \u043d\u0430\u0447\u0438\u043d\u0430\u0435\u0442\u0441\u044f \u0432\u0447\u0435\u0440\u0430\\n\u0411\u043e\u0433\u0438 \u0441\u0443\u0449\u0435\u0441\u0442\u0432\u0443\u044e\u0442 \u043f\u043e\u043d\u0430\u0440...</td>\n",
              "      <td>\u044d\u0437\u043e\u0442\u0435\u0440\u0438\u043a\u0430</td>\n",
              "    </tr>\n",
              "    <tr>\n",
              "      <th>204</th>\n",
              "      <td>https://www.chitalnya.ru/work/3375714/</td>\n",
              "      <td>39</td>\n",
              "      <td>17</td>\n",
              "      <td>\u041c\u044b \u043a \u0431\u0435\u0440\u0435\u0433\u0443 \u043f\u043e\u043b\u043e\u0433\u043e\u043c\u0443 \u043f\u0440\u0438\u0447\u0430\u043b\u0438\u043c,\\n\u041e\u0433\u043b\u044f\u043d\u0435\u043c\u0441\u044f \u043d\u0430\u0437\u0430...</td>\n",
              "      <td>\u043b\u0438\u0440\u0438\u043a\u0430</td>\n",
              "    </tr>\n",
              "    <tr>\n",
              "      <th>...</th>\n",
              "      <td>...</td>\n",
              "      <td>...</td>\n",
              "      <td>...</td>\n",
              "      <td>...</td>\n",
              "      <td>...</td>\n",
              "    </tr>\n",
              "    <tr>\n",
              "      <th>138284</th>\n",
              "      <td>https://www.chitalnya.ru/work/3800370/</td>\n",
              "      <td>48</td>\n",
              "      <td>34</td>\n",
              "      <td>\u0410, \u0432\u043e\u0442 \u0441\u0435\u0433\u043e\u0434\u043d\u044f\u0448\u043d\u0438\u0439 \u0434\u0435\u043d\u0451\u043a:\\n\u042f\u0433\u0443\u0448\u0430 \u0432\u0441\u0435\u0445 \u0434\u043e\u0441\u0442\u0430\u043b\u0430!...</td>\n",
              "      <td>\u044e\u043c\u043e\u0440</td>\n",
              "    </tr>\n",
              "    <tr>\n",
              "      <th>138334</th>\n",
              "      <td>https://www.chitalnya.ru/work/3694518/</td>\n",
              "      <td>82</td>\n",
              "      <td>44</td>\n",
              "      <td>\u041c\u043d\u0435 \u0437\u043d\u0430\u043a\u043e\u043c\u044b, \u0434\u043e \u0431\u043e\u043b\u0438 \u0437\u043d\u0430\u043a\u043e\u043c\u044b\\n\u0412\u0441\u0435 \u0442\u0440\u043e\u043f\u0438\u043d\u043a\u0438 \u0434\u0435\u0440...</td>\n",
              "      <td>\u043b\u0438\u0440\u0438\u043a\u0430</td>\n",
              "    </tr>\n",
              "    <tr>\n",
              "      <th>138343</th>\n",
              "      <td>https://www.chitalnya.ru/work/3720299/</td>\n",
              "      <td>45</td>\n",
              "      <td>20</td>\n",
              "      <td>\u0415\u0441\u043b\u0438 \u0445\u043e\u0447\u0435\u0448\u044c..-\u0410 \u0435\u0441\u043b\u0438 \u043d\u0435\u0442?\\n\u041d\u0435 \u043d\u0443\u0436\u043d\u044b \u043f\u0443\u0441\u0442\u044b\u0435 \u0441\u043b\u043e...</td>\n",
              "      <td>\u043b\u0438\u0440\u0438\u043a\u0430</td>\n",
              "    </tr>\n",
              "    <tr>\n",
              "      <th>138357</th>\n",
              "      <td>https://www.chitalnya.ru/work/3011493/</td>\n",
              "      <td>47</td>\n",
              "      <td>40</td>\n",
              "      <td>\u041e \u0447\u0451\u043c \u0433\u0440\u0443\u0441\u0442\u044f\u0442 \u043c\u043e\u0441\u043a\u043e\u0432\u0441\u043a\u0438\u0435 \u0441\u043e\u0441\u0443\u043b\u044c\u043a\u0438?\\n\u041e \u0442\u043e\u043c, \u0447\u0442\u043e...</td>\n",
              "      <td>\u043f\u0435\u0441\u043d\u0438</td>\n",
              "    </tr>\n",
              "    <tr>\n",
              "      <th>138365</th>\n",
              "      <td>https://www.chitalnya.ru/work/3694098/</td>\n",
              "      <td>51</td>\n",
              "      <td>22</td>\n",
              "      <td>\u0422\u044b \u0441\u0435\u0433\u043e\u0434\u043d\u044f \u043c\u0435\u043d\u044f \u043d\u0435 \u0432\u0441\u0442\u0440\u0435\u0447\u0430\u0435\u0448\u044c!\\n\u0411\u0435\u043b\u044b\u043c \u0441\u043d\u0435\u0433\u043e\u043c \u043e...</td>\n",
              "      <td>\u043b\u0438\u0440\u0438\u043a\u0430</td>\n",
              "    </tr>\n",
              "  </tbody>\n",
              "</table>\n",
              "<p>4927 rows \u00d7 5 columns</p>\n",
              "</div>"
            ],
            "text/plain": [
              "                                           url  rating  views  \\\n",
              "9       https://www.chitalnya.ru/work/3841458/      58     16   \n",
              "15      https://www.chitalnya.ru/work/3275893/      58     26   \n",
              "89      https://www.chitalnya.ru/work/3439058/      73     72   \n",
              "178     https://www.chitalnya.ru/work/3773168/      32     20   \n",
              "204     https://www.chitalnya.ru/work/3375714/      39     17   \n",
              "...                                        ...     ...    ...   \n",
              "138284  https://www.chitalnya.ru/work/3800370/      48     34   \n",
              "138334  https://www.chitalnya.ru/work/3694518/      82     44   \n",
              "138343  https://www.chitalnya.ru/work/3720299/      45     20   \n",
              "138357  https://www.chitalnya.ru/work/3011493/      47     40   \n",
              "138365  https://www.chitalnya.ru/work/3694098/      51     22   \n",
              "\n",
              "                                              output_text      genre  \n",
              "9       \u0427\u0430\u0432\u043a\u0430\u0435\u0442 \u043b\u0443\u0436\u0430 \u0441\u043c\u0435\u0448\u043d\u043e \u043f\u043e\u0434 \u043d\u043e\u0433\u0430\u043c\u0438:\\n\u0421\u044d\u0440, \u043c\u043e\u0436\u043d\u043e \u043c\u043d...       \u044e\u043c\u043e\u0440  \n",
              "15      \u0421\u0432\u043e\u0434 \u0437\u0430\u043a\u043e\u043d\u043e\u0432 \u043d\u0435\u0431\u0435\u0441\u043d\u044b\u0439,\\n\u0421\u043d\u0435\u0433\u043e\u043f\u0430\u0434\u044b, \u0434\u043e\u0436\u0434\u0438.\\n\u041e\u0442 ...     \u043b\u0438\u0440\u0438\u043a\u0430  \n",
              "89      \u0412\u044b\u0446\u0432\u0435\u0442\u0430\u044e\u0442 \u0447\u0435\u0440\u043d\u0438\u043b\u0430 \u043d\u043e\u0432\u0435\u043b\u043b\u044b \u043f\u043e\u0442\u0435\u0440\u044f\u043d\u043d\u043e\u0439 \u043d\u043e\u0447\u0438,\\n\u041d\u0430...     \u043b\u0438\u0440\u0438\u043a\u0430  \n",
              "178     \u0417\u0430\u0432\u0442\u0440\u0430 \u043d\u0430\u0447\u0438\u043d\u0430\u0435\u0442\u0441\u044f \u0432\u0447\u0435\u0440\u0430\\n\u0411\u043e\u0433\u0438 \u0441\u0443\u0449\u0435\u0441\u0442\u0432\u0443\u044e\u0442 \u043f\u043e\u043d\u0430\u0440...  \u044d\u0437\u043e\u0442\u0435\u0440\u0438\u043a\u0430  \n",
              "204     \u041c\u044b \u043a \u0431\u0435\u0440\u0435\u0433\u0443 \u043f\u043e\u043b\u043e\u0433\u043e\u043c\u0443 \u043f\u0440\u0438\u0447\u0430\u043b\u0438\u043c,\\n\u041e\u0433\u043b\u044f\u043d\u0435\u043c\u0441\u044f \u043d\u0430\u0437\u0430...     \u043b\u0438\u0440\u0438\u043a\u0430  \n",
              "...                                                   ...        ...  \n",
              "138284  \u0410, \u0432\u043e\u0442 \u0441\u0435\u0433\u043e\u0434\u043d\u044f\u0448\u043d\u0438\u0439 \u0434\u0435\u043d\u0451\u043a:\\n\u042f\u0433\u0443\u0448\u0430 \u0432\u0441\u0435\u0445 \u0434\u043e\u0441\u0442\u0430\u043b\u0430!...       \u044e\u043c\u043e\u0440  \n",
              "138334  \u041c\u043d\u0435 \u0437\u043d\u0430\u043a\u043e\u043c\u044b, \u0434\u043e \u0431\u043e\u043b\u0438 \u0437\u043d\u0430\u043a\u043e\u043c\u044b\\n\u0412\u0441\u0435 \u0442\u0440\u043e\u043f\u0438\u043d\u043a\u0438 \u0434\u0435\u0440...     \u043b\u0438\u0440\u0438\u043a\u0430  \n",
              "138343  \u0415\u0441\u043b\u0438 \u0445\u043e\u0447\u0435\u0448\u044c..-\u0410 \u0435\u0441\u043b\u0438 \u043d\u0435\u0442?\\n\u041d\u0435 \u043d\u0443\u0436\u043d\u044b \u043f\u0443\u0441\u0442\u044b\u0435 \u0441\u043b\u043e...     \u043b\u0438\u0440\u0438\u043a\u0430  \n",
              "138357  \u041e \u0447\u0451\u043c \u0433\u0440\u0443\u0441\u0442\u044f\u0442 \u043c\u043e\u0441\u043a\u043e\u0432\u0441\u043a\u0438\u0435 \u0441\u043e\u0441\u0443\u043b\u044c\u043a\u0438?\\n\u041e \u0442\u043e\u043c, \u0447\u0442\u043e...      \u043f\u0435\u0441\u043d\u0438  \n",
              "138365  \u0422\u044b \u0441\u0435\u0433\u043e\u0434\u043d\u044f \u043c\u0435\u043d\u044f \u043d\u0435 \u0432\u0441\u0442\u0440\u0435\u0447\u0430\u0435\u0448\u044c!\\n\u0411\u0435\u043b\u044b\u043c \u0441\u043d\u0435\u0433\u043e\u043c \u043e...     \u043b\u0438\u0440\u0438\u043a\u0430  \n",
              "\n",
              "[4927 rows x 5 columns]"
            ]
          },
          "metadata": {},
          "execution_count": 16
        }
      ],
      "execution_count": null
    },
    {
      "metadata": {},
      "source": [
        "df_train[\"rating\"].apply(lambda x: np.log(x + 0.00001)).hist(bins=100)"
      ],
      "cell_type": "code",
      "outputs": [
        {
          "output_type": "execute_result",
          "data": {
            "text/plain": [
              "<Axes: >"
            ]
          },
          "metadata": {},
          "execution_count": 10
        },
        {
          "output_type": "display_data",
          "data": {
            "image/png": "[encoded data removed]",
            "text/plain": [
              "<Figure size 640x480 with 1 Axes>"
            ]
          },
          "metadata": {}
        }
      ],
      "execution_count": null
    },
    {
      "metadata": {},
      "source": [
        "df_train[\"views\"].hist()"
      ],
      "cell_type": "code",
      "outputs": [],
      "execution_count": null
    },
    {
      "metadata": {},
      "source": [
        "df_train[\"genre\"].value_counts()"
      ],
      "cell_type": "code",
      "outputs": [],
      "execution_count": null
    },
    {
      "metadata": {},
      "source": [
        "sns.relplot(\n",
        "    data=df_train[(df_train.rating <= 100) & (df_train.views <= 5000)],\n",
        "    x=\"rating\",\n",
        "    y=\"views\",\n",
        "    hue=\"genre\",\n",
        "    height=15,\n",
        ")"
      ],
      "cell_type": "code",
      "outputs": [],
      "execution_count": null
    },
    {
      "metadata": {},
      "source": [
        "sns.catplot(data=df_train, x=\"rating\", y=\"genre\", hue=\"views\", height=10)"
      ],
      "cell_type": "code",
      "outputs": [],
      "execution_count": null
    },
    {
      "metadata": {},
      "source": [],
      "cell_type": "code",
      "outputs": [],
      "execution_count": null
    }
  ]
}
