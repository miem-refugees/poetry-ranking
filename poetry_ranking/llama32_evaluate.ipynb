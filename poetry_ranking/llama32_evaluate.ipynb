{
  "nbformat": 4,
  "nbformat_minor": 2,
  "metadata": {},
  "cells": [
    {
      "metadata": {},
      "source": [
        "import numpy as np\n",
        "import pandas as pd\n",
        "import seaborn as sns\n",
        "from scipy.stats import kendalltau, spearmanr"
      ],
      "cell_type": "code",
      "outputs": [],
      "execution_count": null
    },
    {
      "metadata": {},
      "source": [
        "df_test = pd.read_csv(\"data/raw/poetry_data_test.zip\")\n",
        "df = df_test[:3000]\n",
        "\n",
        "data = open(\"temp.txt\").readlines()\n",
        "scores = [int(x.replace(\"\\n\", \"\")) if x != \"None\\n\" else x for x in data]\n",
        "df[\"pred\"] = scores\n",
        "df = df[df[\"pred\"] != \"None\\n\"]"
      ],
      "cell_type": "code",
      "outputs": [],
      "execution_count": null
    },
    {
      "metadata": {},
      "source": [
        "def print_metrics(y, y_pred, prefix=\"\"):\n",
        "    kendall_tau, _ = kendalltau(y, y_pred)\n",
        "    print(f\"{prefix.upper()}: Kendall's Tau: {kendall_tau}\")\n",
        "    kendall_tau, _ = spearmanr(y, y_pred)\n",
        "    print(f\"{prefix.upper()}: Spearmanr: {kendall_tau}\")\n",
        "\n",
        "\n",
        "def rating_views_target(rating, views):\n",
        "    if views == 0:\n",
        "        return 0\n",
        "    return views + np.exp(1 + rating / (rating + views)) * rating"
      ],
      "cell_type": "code",
      "outputs": [],
      "execution_count": null
    },
    {
      "metadata": {},
      "source": [
        "rating_views_target(0, 150)"
      ],
      "cell_type": "code",
      "outputs": [
        {
          "output_type": "execute_result",
          "data": {
            "text/plain": [
              "150.0"
            ]
          },
          "metadata": {},
          "execution_count": 21
        }
      ],
      "execution_count": null
    },
    {
      "metadata": {},
      "source": [
        "rating_views_target(75, 75)"
      ],
      "cell_type": "code",
      "outputs": [
        {
          "output_type": "execute_result",
          "data": {
            "text/plain": [
              "411.12668027535483"
            ]
          },
          "metadata": {},
          "execution_count": 22
        }
      ],
      "execution_count": null
    },
    {
      "metadata": {},
      "source": [
        "print_metrics(df[\"rating\"].to_list(), df[\"pred\"].to_list())"
      ],
      "cell_type": "code",
      "outputs": [
        {
          "output_type": "stream",
          "name": "stdout",
          "text": [
            ": Kendall's Tau: 0.12774926189756403\n",
            ": Spearmanr: 0.16656870681757996\n"
          ]
        }
      ],
      "execution_count": null
    },
    {
      "metadata": {},
      "source": [
        "print_metrics(df[\"views\"].to_list(), df[\"pred\"].to_list())"
      ],
      "cell_type": "code",
      "outputs": [
        {
          "output_type": "stream",
          "name": "stdout",
          "text": [
            ": Kendall's Tau: 0.0014017369928848982\n",
            ": Spearmanr: 0.0017539041520880621\n"
          ]
        }
      ],
      "execution_count": null
    },
    {
      "metadata": {},
      "source": [
        "print_metrics(\n",
        "    df.apply(\n",
        "        lambda row: rating_views_target(row[\"rating\"], row[\"views\"]), axis=1\n",
        "    ).to_list(),\n",
        "    df[\"pred\"].to_list(),\n",
        ")"
      ],
      "cell_type": "code",
      "outputs": [
        {
          "output_type": "stream",
          "name": "stdout",
          "text": [
            ": Kendall's Tau: 0.03984507409614678\n",
            ": Spearmanr: 0.05787304289029436\n"
          ]
        }
      ],
      "execution_count": null
    },
    {
      "metadata": {},
      "source": [
        "pushkin = \"\"\"\u00ab\u041c\u043e\u0439 \u0434\u044f\u0434\u044f \u0441\u0430\u043c\u044b\u0445 \u0447\u0435\u0441\u0442\u043d\u044b\u0445 \u043f\u0440\u0430\u0432\u0438\u043b,\n",
        "\u041a\u043e\u0433\u0434\u0430 \u043d\u0435 \u0432 \u0448\u0443\u0442\u043a\u0443 \u0437\u0430\u043d\u0435\u043c\u043e\u0433,\n",
        "\u041e\u043d \u0443\u0432\u0430\u0436\u0430\u0442\u044c \u0441\u0435\u0431\u044f \u0437\u0430\u0441\u0442\u0430\u0432\u0438\u043b\n",
        "\u0418 \u043b\u0443\u0447\u0448\u0435 \u0432\u044b\u0434\u0443\u043c\u0430\u0442\u044c \u043d\u0435 \u043c\u043e\u0433.\n",
        "\u0415\u0433\u043e \u043f\u0440\u0438\u043c\u0435\u0440 \u0434\u0440\u0443\u0433\u0438\u043c \u043d\u0430\u0443\u043a\u0430;\n",
        "\u041d\u043e, \u0431\u043e\u0436\u0435 \u043c\u043e\u0439, \u043a\u0430\u043a\u0430\u044f \u0441\u043a\u0443\u043a\u0430\n",
        "\u0421 \u0431\u043e\u043b\u044c\u043d\u044b\u043c \u0441\u0438\u0434\u0435\u0442\u044c \u0438 \u0434\u0435\u043d\u044c \u0438 \u043d\u043e\u0447\u044c,\n",
        "\u041d\u0435 \u043e\u0442\u0445\u043e\u0434\u044f \u043d\u0438 \u0448\u0430\u0433\u0443 \u043f\u0440\u043e\u0447\u044c!\n",
        "\u041a\u0430\u043a\u043e\u0435 \u043d\u0438\u0437\u043a\u043e\u0435 \u043a\u043e\u0432\u0430\u0440\u0441\u0442\u0432\u043e\n",
        "\u041f\u043e\u043b\u0443\u0436\u0438\u0432\u043e\u0433\u043e \u0437\u0430\u0431\u0430\u0432\u043b\u044f\u0442\u044c,\n",
        "\u0415\u043c\u0443 \u043f\u043e\u0434\u0443\u0448\u043a\u0438 \u043f\u043e\u043f\u0440\u0430\u0432\u043b\u044f\u0442\u044c,\n",
        "\u041f\u0435\u0447\u0430\u043b\u044c\u043d\u043e \u043f\u043e\u0434\u043d\u043e\u0441\u0438\u0442\u044c \u043b\u0435\u043a\u0430\u0440\u0441\u0442\u0432\u043e,\n",
        "\u0412\u0437\u0434\u044b\u0445\u0430\u0442\u044c \u0438 \u0434\u0443\u043c\u0430\u0442\u044c \u043f\u0440\u043e \u0441\u0435\u0431\u044f:\n",
        "\u041a\u043e\u0433\u0434\u0430 \u0436\u0435 \u0447\u0435\u0440\u0442 \u0432\u043e\u0437\u044c\u043c\u0435\u0442 \u0442\u0435\u0431\u044f!\u00bb\"\"\"\n",
        "\n",
        "esenin = \"\"\"\u0417\u0430\u043c\u0435\u0442\u0430\u043b\u0441\u044f \u043f\u043e\u0436\u0430\u0440 \u0433\u043e\u043b\u0443\u0431\u043e\u0439,\n",
        "\u041f\u043e\u0437\u0430\u0431\u044b\u043b\u0438\u0441\u044c \u0440\u043e\u0434\u0438\u043c\u044b\u0435 \u0434\u0430\u043b\u0438.\n",
        "\u0412 \u043f\u0435\u0440\u0432\u044b\u0439 \u0440\u0430\u0437 \u044f \u0437\u0430\u043f\u0435\u043b \u043f\u0440\u043e \u043b\u044e\u0431\u043e\u0432\u044c,\n",
        "\u0412 \u043f\u0435\u0440\u0432\u044b\u0439 \u0440\u0430\u0437 \u043e\u0442\u0440\u0435\u043a\u0430\u044e\u0441\u044c \u0441\u043a\u0430\u043d\u0434\u0430\u043b\u0438\u0442\u044c.\n",
        "\u0411\u044b\u043b \u044f \u0432\u0435\u0441\u044c \u2014 \u043a\u0430\u043a \u0437\u0430\u043f\u0443\u0449\u0435\u043d\u043d\u044b\u0439 \u0441\u0430\u0434,\n",
        "\u0411\u044b\u043b \u043d\u0430 \u0436\u0435\u043d\u0449\u0438\u043d \u0438 \u0437\u0435\u043b\u0438\u0435 \u043f\u0430\u0434\u043a\u0438\u0439.\n",
        "\u0420\u0430\u0437\u043e\u043d\u0440\u0430\u0432\u0438\u043b\u043e\u0441\u044c \u043f\u0438\u0442\u044c \u0438 \u043f\u043b\u044f\u0441\u0430\u0442\u044c\n",
        "\u0418 \u0442\u0435\u0440\u044f\u0442\u044c \u0441\u0432\u043e\u044e \u0436\u0438\u0437\u043d\u044c \u0431\u0435\u0437 \u043e\u0433\u043b\u044f\u0434\u043a\u0438.\n",
        "\u041c\u043d\u0435 \u0431\u044b \u0442\u043e\u043b\u044c\u043a\u043e \u0441\u043c\u043e\u0442\u0440\u0435\u0442\u044c \u043d\u0430 \u0442\u0435\u0431\u044f,\n",
        "\u0412\u0438\u0434\u0435\u0442\u044c \u0433\u043b\u0430\u0437 \u0437\u043b\u0430\u0442\u043e-\u043a\u0430\u0440\u0438\u0439 \u043e\u043c\u0443\u0442,\n",
        "\u0418 \u0447\u0442\u043e\u0431, \u043f\u0440\u043e\u0448\u043b\u043e\u0435 \u043d\u0435 \u043b\u044e\u0431\u044f,\n",
        "\u0422\u044b \u0443\u0439\u0442\u0438 \u043d\u0435 \u0441\u043c\u043e\u0433\u043b\u0430 \u043a \u0434\u0440\u0443\u0433\u043e\u043c\u0443.\"\"\"\n",
        "\n",
        "gpt_random = \"\"\"\u0421\u043a\u0430\u0447\u0435\u0442 \u0432\u043e\u0440\u043e\u0431\u0435\u0439 \u043d\u0430 \u043b\u0443\u0436\u0443,\n",
        "\u0421\u044b\u0440 \u0441 \u043e\u0440\u0435\u0445\u043e\u043c \u0432 \u0442\u0451\u043c\u043d\u043e\u043c \u0441\u0442\u0443\u0436\u0435.\n",
        "\u0422\u0440\u0438 \u043a\u043e\u043b\u0435\u0441\u0430 \u043f\u043e \u043b\u0443\u0436\u0430\u0439\u043a\u0435 \u043f\u043b\u044b\u0432\u0443\u0442,\n",
        "\u0410 \u0432 \u0433\u043e\u0440\u043b\u0435 \u0439\u043e\u0433\u0443\u0440\u0442, \u0430 \u0440\u044f\u0434\u043e\u043c \u0441\u0430\u043b\u044e\u0442.\n",
        "\n",
        "\u041b\u0438\u043f\u043d\u0435\u0442 \u043a\u043b\u044e\u043a\u0432\u0430 \u043a \u043f\u043e\u0442\u043e\u043b\u043a\u0443,\n",
        "\u0416\u0443\u043a \u0442\u0430\u043d\u0446\u0443\u0435\u0442 \u0432 \u043c\u043e\u043b\u043e\u043a\u0443,\n",
        "\u0412 \u043d\u0435\u0431\u0435 \u0440\u0430\u0434\u0443\u0433\u0430-\u0442\u0435\u0442\u0440\u0430\u0434\u044c,\n",
        "\u041a\u0430\u043a \u0436\u0435 \u0442\u0443\u0442 \u043d\u0435 \u043f\u043e\u043b\u0435\u0442\u0430\u0442\u044c?\"\"\"\n",
        "\n",
        "top_poem_in_test = df_test[df_test[\"rating\"] == df_test[\"rating\"].max()][\n",
        "    \"output_text\"\n",
        "].values[0]\n",
        "\n",
        "bottom_poem_in_test = df_test[df_test[\"views\"] == df_test[\"views\"].min()][\n",
        "    \"output_text\"\n",
        "].values[1]\n",
        "\n",
        "random_words = \"\"\"\u041e\u0437\u0435\u0440\u043e\n",
        "\u041f\u0443\u0442\u0435\u0448\u0435\u0441\u0442\u0432\u0438\u0435\n",
        "\u0421\u0438\u044f\u043d\u0438\u0435\n",
        "\u041b\u0438\u0441\u0442\u043e\u043f\u0430\u0434\n",
        "\u0412\u0435\u043b\u043e\u0441\u0438\u043f\u0435\u0434\n",
        "\u041c\u0435\u0447\u0442\u0430\n",
        "\u0417\u043e\u043d\u0442\u0438\u043a\n",
        "\u0420\u0435\u043a\u0430\n",
        "\u0413\u043e\u0440\u0438\u0437\u043e\u043d\u0442\n",
        "\u0412\u0434\u043e\u0445\u043d\u043e\u0432\u0435\u043d\u0438\u0435\n",
        "\u0424\u043e\u043d\u0430\u0440\u044c\n",
        "\u041b\u0430\u0441\u0442\u043e\u0447\u043a\u0430\n",
        "\u0421\u0442\u0443\u043f\u0435\u043d\u044c\u043a\u0430\"\"\"\n",
        "\n",
        "sanity_check = [\n",
        "    pushkin,\n",
        "    esenin,\n",
        "    gpt_random,\n",
        "    top_poem_in_test,\n",
        "    bottom_poem_in_test,\n",
        "    random_words,\n",
        "]"
      ],
      "cell_type": "code",
      "outputs": [],
      "execution_count": null
    },
    {
      "metadata": {},
      "source": [],
      "cell_type": "code",
      "outputs": [
        {
          "output_type": "execute_result",
          "data": {
            "text/plain": [
              "'\u0422\u0432\u043e\u044f \u0437\u0432\u0435\u0437\u0434\u0430 \u0443\u0436\u0435 \u0441\u0438\u044f\u0435\u0442\\n\u041d\u0430\u0434 \u043c\u0438\u0440\u0438\u0430\u0434\u0430\u043c\u0438 \u043e\u0433\u043d\u0435\u0439.\\n\u041f\u043e\u044d\u0437\u0438\u044f \u0435\u0449\u0451 \u043d\u0435 \u0437\u043d\u0430\u0435\u0442\\n\u0412\u0441\u0435\u0439 \u0433\u0435\u043d\u0438\u0430\u043b\u044c\u043d\u043e\u0441\u0442\u0438 \u0442\u0432\u043e\u0435\u0439.'"
            ]
          },
          "metadata": {},
          "execution_count": 20
        }
      ],
      "execution_count": null
    },
    {
      "metadata": {},
      "source": [
        "sns.displot(df[\"pred\"])"
      ],
      "cell_type": "code",
      "outputs": [
        {
          "output_type": "execute_result",
          "data": {
            "text/plain": [
              "<seaborn.axisgrid.FacetGrid at 0x7f0ff3e0e590>"
            ]
          },
          "metadata": {},
          "execution_count": 29
        },
        {
          "output_type": "display_data",
          "data": {
            "image/png": "[encoded data removed]",
            "text/plain": [
              "<Figure size 500x500 with 1 Axes>"
            ]
          },
          "metadata": {}
        }
      ],
      "execution_count": null
    }
  ]
}
