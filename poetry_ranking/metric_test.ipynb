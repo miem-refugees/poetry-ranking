{
  "nbformat": 4,
  "nbformat_minor": 2,
  "metadata": {},
  "cells": [
    {
      "metadata": {},
      "source": [
        "from scipy.stats import kendalltau, spearmanr"
      ],
      "cell_type": "code",
      "outputs": [],
      "execution_count": null
    },
    {
      "metadata": {},
      "source": [
        "print(kendalltau([82, 72, 82, 83, 51, 45], [10, 10, 3, 7, 4, 0]))\n",
        "print(kendalltau([7.8, 14, 7, 13, 4, 3], [10, 10, 3, 7, 4, 0]))\n",
        "\n",
        "print(spearmanr([82, 72, 82, 83, 51, 45], [10, 10, 3, 7, 4, 0]))\n",
        "print(spearmanr([7.8, 14, 7, 13, 4, 3], [10, 10, 3, 7, 4, 0]))"
      ],
      "cell_type": "code",
      "outputs": [
        {
          "output_type": "stream",
          "name": "stdout",
          "text": [
            "SignificanceResult(statistic=0.35714285714285715, pvalue=0.33049183615926225)\n",
            "SignificanceResult(statistic=0.6900655593423543, pvalue=0.05578260870684413)\n",
            "SignificanceResult(statistic=0.45588235294117646, pvalue=0.3635491934663138)\n",
            "SignificanceResult(statistic=0.8406680016960503, pvalue=0.0360575728451592)\n"
          ]
        }
      ],
      "execution_count": null
    }
  ]
}
